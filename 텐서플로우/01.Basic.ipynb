{
 "cells": [
  {
   "cell_type": "markdown",
   "metadata": {},
   "source": [
    "## Tensorflow 기초 \n",
    "1. dimension (차원 늘리기)  \n",
    "expand_dims()는 거의 매일 쓰게 되는 기본기 함수\n",
    "\n",
    "- 모델 입력 형식 맞추기 (batch 차원 추가  \n",
    "모델은 일반적으로 배치(batch) 단위로 데이터를 받습니다. 예를 들어 이미지 하나를 입력으로 넣고 싶어도 (height, width, channels) → (1, height, width, channels)처럼 맨 앞에 배치 차원(1)을 추가해줘야 합니다.\n",
    "\n",
    "- 브로드캐스팅을 위한 차원 맞추기   \n",
    "두 텐서를 연산하려 할 때, 브로드캐스팅이 가능한 형태로 맞추기 위해 차원을 늘리는 경우도 많습니다.\n",
    "\n",
    "- 시퀀스 모델에서 시간축 추가  \n",
    "LSTM, GRU 같은 RNN 계열에서는 입력 shape이 (batch_size, time_steps, features) 형식입니다.\n",
    "단일 입력을 넣으려면 expand_dims로 시간축을 추가해야 합니다.\n",
    "\n",
    "- 불필요한 차원 제거/추가 (전처리 or 후처리)  \n",
    "expand_dims: 차원을 늘려서 형식 맞추기  \n",
    "squeeze: 차원이 1인 축을 제거\n",
    "\n",
    "| 상황|자주 사용|이유|\n",
    "|---|---|---|\n",
    "|CNN에서 단일 이미지 넣을 때|✅ 자주 사용|배치 차원 필요|\n",
    "|LSTM/RNN 입력 구성|✅ 매우 자주 사용|시간축 요구|\n",
    "|tf.data 전처리 파이프라인|✅ 자주 사용|shape 통일 필요|\n",
    "|브로드캐스팅 연산|✅ 사용 빈도 높음|수학적 연산 위해 shape 맞춤|"
   ]
  },
  {
   "cell_type": "code",
   "execution_count": null,
   "metadata": {},
   "outputs": [],
   "source": [
    "!pip install numpy \n",
    "!pip install tensorflow"
   ]
  },
  {
   "cell_type": "code",
   "execution_count": null,
   "metadata": {},
   "outputs": [],
   "source": [
    "### 가상환경 실행 \n",
    "# python3.12 -m venv .tf_env \n",
    "source .tf_env/bin/activate"
   ]
  },
  {
   "cell_type": "code",
   "execution_count": 2,
   "metadata": {},
   "outputs": [
    {
     "name": "stderr",
     "output_type": "stream",
     "text": [
      "2025-06-04 22:26:02.254932: I tensorflow/core/platform/cpu_feature_guard.cc:193] This TensorFlow binary is optimized with oneAPI Deep Neural Network Library (oneDNN) to use the following CPU instructions in performance-critical operations:  AVX2 FMA\n",
      "To enable them in other operations, rebuild TensorFlow with the appropriate compiler flags.\n",
      "/Users/armdiri/Library/Mobile Documents/com~apple~CloudDocs/Documents/대학/TIL/.venv/lib/python3.7/site-packages/urllib3/__init__.py:38: NotOpenSSLWarning: urllib3 v2.0 only supports OpenSSL 1.1.1+, currently the 'ssl' module is compiled with 'LibreSSL 2.8.3'. See: https://github.com/urllib3/urllib3/issues/3020\n",
      "  exceptions.NotOpenSSLWarning,\n",
      "2025-06-04 22:26:37.049064: I tensorflow/core/platform/cpu_feature_guard.cc:193] This TensorFlow binary is optimized with oneAPI Deep Neural Network Library (oneDNN) to use the following CPU instructions in performance-critical operations:  AVX2 FMA\n",
      "To enable them in other operations, rebuild TensorFlow with the appropriate compiler flags.\n"
     ]
    },
    {
     "data": {
      "text/plain": [
       "TensorShape([20, 1])"
      ]
     },
     "execution_count": 2,
     "metadata": {},
     "output_type": "execute_result"
    }
   ],
   "source": [
    "import numpy as np\n",
    "import tensorflow as tf\n",
    "\n",
    "x = np.arange(20)\n",
    "tf.expand_dims(x, 1).shape"
   ]
  },
  {
   "cell_type": "code",
   "execution_count": 3,
   "metadata": {},
   "outputs": [
    {
     "data": {
      "text/plain": [
       "(20, 1)"
      ]
     },
     "execution_count": 3,
     "metadata": {},
     "output_type": "execute_result"
    }
   ],
   "source": [
    "np.expand_dims(x, 1).shape"
   ]
  }
 ],
 "metadata": {
  "kernelspec": {
   "display_name": ".venv",
   "language": "python",
   "name": "python3"
  },
  "language_info": {
   "name": "python",
   "version": "3.13.4"
  }
 },
 "nbformat": 4,
 "nbformat_minor": 2
}
