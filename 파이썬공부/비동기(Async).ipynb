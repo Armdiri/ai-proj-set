{
 "cells": [
  {
   "cell_type": "markdown",
   "metadata": {},
   "source": [
    "### Async 비동기 프로그래밍\n",
    "- 파이썬의 비동기 함수가 많이 사용될 때는 I/O 바운드 작업 이나 높은 대기 시간이 예상되는 작업을 처리 할 때 유용\n",
    "\n",
    "### 코루틴(coroutine)\n",
    "- 여러 작업을 번갈아 수행 : 스테이크가 익는 동안 당신은 쌀을 지을 수 있고, 쌀이 끓는 동안 샐러드를 만들 수 있습니다. 코루틴도 이와 같이 하나의 작업이 끝나기를 기다리는 동안 다른 작업을 수행할 수 있습니다.\n",
    "- 작업의 중단과 재개 : 요리를 할 때 한 요리에서 다른 요리로 전환할 때, 각 요리의 현재 상태를 기억해야 합니다. 마찬가지로 코루틴은 중단된 지점을 기억하고, 나중에 그 지점부터 작업을 계속합니다.\n",
    "- 효율적인 작업 관리 : 한 요리가 자동으로 진행되는 동안 다른 요리를 준비함으로써 시간을 절약할 수 있습니다. 예를 들어, 스테이크가 팬에서 익는 동안 샐러드를 만들 수 있습니다. 코루틴은 이와 유사하게, 효율적으로 여러 작업을 동시에 관리할 수 있습니다.\n",
    "- async 와 await 키워드를 통해서 구현 "
   ]
  },
  {
   "cell_type": "code",
   "execution_count": 1,
   "metadata": {},
   "outputs": [
    {
     "name": "stdout",
     "output_type": "stream",
     "text": [
      "[작업시작] 2025-06-14 15:42:48\n",
      "이작업은 1 초 뒤 종료됩니다.\n",
      "[작업종료] 2025-06-14 15:42:49\n",
      "작업이 끝나습니다.\n",
      "[작업시작] 2025-06-14 15:42:49\n",
      "이작업은 2 초 뒤 종료됩니다.\n",
      "[작업종료] 2025-06-14 15:42:51\n",
      "작업이 끝나습니다.\n",
      "[작업시작] 2025-06-14 15:42:51\n",
      "이작업은 3 초 뒤 종료됩니다.\n",
      "[작업종료] 2025-06-14 15:42:54\n",
      "작업이 끝나습니다.\n"
     ]
    }
   ],
   "source": [
    "# 동기식 작업 \n",
    "import time\n",
    "import datetime\n",
    "\n",
    "def task(seconds) :\n",
    "    print(f'[작업시작] {datetime.datetime.now().strftime(\"%Y-%m-%d %H:%M:%S\")}')\n",
    "    print(f'이작업은 {seconds} 초 뒤 종료됩니다.')\n",
    "    time.sleep(seconds)\n",
    "    print(f'[작업종료] {datetime.datetime.now().strftime(\"%Y-%m-%d %H:%M:%S\")}')\n",
    "    print(f'작업이 끝나습니다.')\n",
    "\n",
    "def main() :\n",
    "    task(1)\n",
    "    task(2)\n",
    "    task(3)\n",
    "\n",
    "if __name__ == '__main__' :\n",
    "    main()"
   ]
  },
  {
   "cell_type": "code",
   "execution_count": null,
   "metadata": {},
   "outputs": [
    {
     "name": "stdout",
     "output_type": "stream",
     "text": [
      "[작업시작] 2025-06-14 15:47:16\n",
      "이작업은 1 초 뒤 종료됩니다.\n",
      "[작업시작] 2025-06-14 15:47:16\n",
      "이작업은 2 초 뒤 종료됩니다.\n",
      "[작업시작] 2025-06-14 15:47:16\n",
      "이작업은 3 초 뒤 종료됩니다.\n",
      "[작업종료] 2025-06-14 15:47:17\n",
      "작업이 끝나습니다.\n",
      "[작업종료] 2025-06-14 15:47:18\n",
      "작업이 끝나습니다.\n",
      "[작업종료] 2025-06-14 15:47:19\n",
      "작업이 끝나습니다.\n"
     ]
    }
   ],
   "source": [
    "# 비동기식 작업 \n",
    "import time\n",
    "import datetime\n",
    "import asyncio\n",
    "\n",
    "async def task(seconds) :\n",
    "    print(f'[작업시작] {datetime.datetime.now().strftime(\"%Y-%m-%d %H:%M:%S\")}')\n",
    "    print(f'이작업은 {seconds} 초 뒤 종료됩니다.')\n",
    "    await asyncio.sleep(seconds)\n",
    "    print(f'[작업종료] {datetime.datetime.now().strftime(\"%Y-%m-%d %H:%M:%S\")}')\n",
    "    print(f'작업이 끝나습니다.')\n",
    "\n",
    "async def main() :\n",
    "    await asyncio.gather(\n",
    "        task(1),\n",
    "        task(2),\n",
    "        task(3)\n",
    "    ) \n",
    "\n",
    "# 파이썬코드에서 비동기 작업을 실행하기 위해서는 asyncio.run(main()) 을 사용해야 함 \n",
    "await main() # 노트북의 경우 위 코드가 실행 안되며 await 를 사용해야 함 "
   ]
  }
 ],
 "metadata": {
  "kernelspec": {
   "display_name": "Python 3",
   "language": "python",
   "name": "python3"
  },
  "language_info": {
   "codemirror_mode": {
    "name": "ipython",
    "version": 3
   },
   "file_extension": ".py",
   "mimetype": "text/x-python",
   "name": "python",
   "nbconvert_exporter": "python",
   "pygments_lexer": "ipython3",
   "version": "3.13.4"
  }
 },
 "nbformat": 4,
 "nbformat_minor": 2
}
