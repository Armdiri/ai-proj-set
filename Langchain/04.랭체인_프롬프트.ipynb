{
 "cells": [
  {
   "cell_type": "markdown",
   "metadata": {},
   "source": [
    "## Prompt 란? \n",
    "출처 : 모두의 AI  \n",
    "Prompt 는 모델에 대한 입력을 의미, 프롬프트 템플릿은 입력의 구성을 담당\n",
    "랭체인은 프롬프트를 쉽게 구성하고 작업할수 있도록 여러 클래스와 함수를 제공 "
   ]
  },
  {
   "cell_type": "code",
   "execution_count": null,
   "metadata": {},
   "outputs": [],
   "source": [
    "## 기본 설정 \n",
    "! pip install langchain openai"
   ]
  },
  {
   "cell_type": "code",
   "execution_count": null,
   "metadata": {},
   "outputs": [],
   "source": [
    "## openai key 설정 \n",
    "\n",
    "from dotenv import load_dotenv\n",
    "import os\n",
    "\n",
    "load_dotenv('../.env')  # .env 파일의 환경변수 로드\n",
    "os.environ.get(\"OPENAI_API_KEY\")"
   ]
  },
  {
   "cell_type": "code",
   "execution_count": 16,
   "metadata": {},
   "outputs": [],
   "source": [
    "## openai 모델 선택 (다비치모델 003)\n",
    "from langchain.llms import OpenAI\n",
    "from langchain.chat_models import ChatOpenAI\n",
    "\n",
    "davinci_model = OpenAI(\n",
    "    model_name='davinci-002'\n",
    "    ,max_tokens=1000\n",
    ")\n",
    "## 실습에서 나온 다빈치003 중단으로 다빈치 002 모델로 변경 "
   ]
  },
  {
   "cell_type": "markdown",
   "metadata": {},
   "source": [
    "### 1) 프롬프트 템플릿 맛보기 \n",
    "- Prompt Template : 일반적인 프롬프트 템플릿 \n",
    "- Chat Prompt Template : 채팅 LLM에 프롬프트를 전달하는데 사용되는 특화된 프롬프트 템플릿 "
   ]
  },
  {
   "cell_type": "code",
   "execution_count": 8,
   "metadata": {},
   "outputs": [
    {
     "data": {
      "text/plain": [
       "'tell me a joke about soccer'"
      ]
     },
     "execution_count": 8,
     "metadata": {},
     "output_type": "execute_result"
    }
   ],
   "source": [
    "from langchain.prompts import PromptTemplate, ChatPromptTemplate\n",
    "\n",
    "## 프롬프트 템플릿을 통해 매개변수 사용 \n",
    "string_prompt = PromptTemplate.from_template(\"tell me a joke about {subject}\")\n",
    "\n",
    "## 매개변수에 값 넣기 \n",
    "string_prompt_value = string_prompt.format(subject=\"soccer\")\n",
    "\n",
    "string_prompt_value"
   ]
  },
  {
   "cell_type": "code",
   "execution_count": 11,
   "metadata": {},
   "outputs": [
    {
     "name": "stdout",
     "output_type": "stream",
     "text": [
      "<class 'str'>\n"
     ]
    }
   ],
   "source": [
    "## to_string 을 통해 생성한 문장은 raw_text 변환 \n",
    "## print(string_prompt_value.to_string())\n",
    "print(type(string_prompt_value))"
   ]
  },
  {
   "cell_type": "code",
   "execution_count": 12,
   "metadata": {},
   "outputs": [
    {
     "data": {
      "text/plain": [
       "'Human: tell me a joke about soccer'"
      ]
     },
     "execution_count": 12,
     "metadata": {},
     "output_type": "execute_result"
    }
   ],
   "source": [
    "## 위 동일한 방식으로 ChatPromptTemplate 사용 \n",
    "chat_prompt = ChatPromptTemplate.from_template(\"tell me a joke about {subject}\")\n",
    "chat_prompt_value = chat_prompt.format(subject=\"soccer\")\n",
    "chat_prompt_value"
   ]
  },
  {
   "cell_type": "markdown",
   "metadata": {},
   "source": [
    "### 2) 프롬프트 템플릿 활용\n",
    "반복적인 프롬프트를 삽입해야 하는경우 Prompt Template 를 시용하여 LLM 활용"
   ]
  },
  {
   "cell_type": "code",
   "execution_count": 13,
   "metadata": {},
   "outputs": [
    {
     "name": "stdout",
     "output_type": "stream",
     "text": [
      "\n",
      "너는 요리사야. 내가 가진 재료들을 갖고 만들수 있는 요리를 추천하고 그 요리의 레시피를 제공해줘.\n",
      "내가 가진 재료는 아래와 같아. \n",
      "\n",
      "<재료>\n",
      "계란, 버섯, 소고기, 파, 간장, 올리고당\n",
      "\n"
     ]
    }
   ],
   "source": [
    "template = \"\"\"\n",
    "너는 요리사야. 내가 가진 재료들을 갖고 만들수 있는 요리를 추천하고 그 요리의 레시피를 제공해줘.\n",
    "내가 가진 재료는 아래와 같아. \n",
    "\n",
    "<재료>\n",
    "{재료}\n",
    "\"\"\"\n",
    "prompt_template = PromptTemplate(\n",
    "    template=template,\n",
    "    input_variables=[\"재료\"]\n",
    ")\n",
    "\n",
    "print(prompt_template.format(재료=\"계란, 버섯, 소고기, 파, 간장, 올리고당\"))"
   ]
  },
  {
   "cell_type": "code",
   "execution_count": 17,
   "metadata": {},
   "outputs": [
    {
     "name": "stdout",
     "output_type": "stream",
     "text": [
      "<요리>\n",
      "계란과 버섯, 소고기, 파를 잘 먹여줘! \n",
      "<배포>\n",
      "대기업의 요리교육을 위해 제공해줘!\n",
      "\n",
      "아이디어: 5개, 소원: 500원, 재료: 1개\n",
      "\n"
     ]
    }
   ],
   "source": [
    "## davinci_model 에 프롬프트 넣기 \n",
    "print(\n",
    "    davinci_model(\n",
    "        prompt_template.format(\n",
    "            재료=\"계란, 버섯, 소고기, 파, 간장, 올리고당\"\n",
    "        )\n",
    "    )\n",
    ")"
   ]
  },
  {
   "cell_type": "markdown",
   "metadata": {},
   "source": [
    "#### 동일하게 ChatGPT 활용 "
   ]
  },
  {
   "cell_type": "code",
   "execution_count": 19,
   "metadata": {},
   "outputs": [
    {
     "name": "stderr",
     "output_type": "stream",
     "text": [
      "/var/folders/3d/dxbhq4214vqddsxgwxm891gm0000gn/T/ipykernel_5534/3006815145.py:31: LangChainDeprecationWarning: The method `BaseChatModel.__call__` was deprecated in langchain-core 0.1.7 and will be removed in 1.0. Use :meth:`~invoke` instead.\n",
      "  answer = chatgpt_model(chat_prompt.format_prompt(재료=\"계란, 버섯, 소고기, 파, 간장, 올리고당\").to_messages())\n"
     ]
    },
    {
     "name": "stdout",
     "output_type": "stream",
     "text": [
      "좋은 재료들이네요! 이 재료들을 활용해서 맛있는 **소고기 버섯 볶음 계란말이**를 만들어보는 건 어떨까요? 간단하면서도 풍미가 가득한 요리입니다.\n",
      "\n",
      "### 소고기 버섯 볶음 계란말이 레시피\n",
      "\n",
      "#### 재료\n",
      "- 계란 3개\n",
      "- 버섯 적당량 (슬라이스)\n",
      "- 소고기 (얇게 썬 것 또는 다진 것) 100g\n",
      "- 파 1대 (송송 썰기)\n",
      "- 간장 1큰술\n",
      "- 올리고당 1작은술\n",
      "- 식용유 약간\n",
      "- 소금, 후추 약간 (선택사항)\n",
      "\n",
      "---\n",
      "\n",
      "#### 만드는 법\n",
      "\n",
      "1. **소고기 양념하기**\n",
      "   - 볼에 소고기, 간장 1큰술, 올리고당 1작은술, 후추 약간을 넣고 잘 섞어 10분 정도 재워둡니다.\n",
      "\n",
      "2. **버섯 볶기**\n",
      "   - 팬에 식용유를 약간 두르고 중불에서 버섯을 넣고 볶아줍니다. 버섯이 익으면 소고기를 넣고 함께 볶아줍니다. 소고기가 익으면 불을 끄고 잠시 식혀줍니다.\n",
      "\n",
      "3. **계란물 만들기**\n",
      "   - 볼에 계란을 깨고 잘 풀어준 후, 송송 썬 파를 넣고 섞습니다.\n",
      "\n",
      "4. **계란말이 만들기**\n",
      "   - 팬에 식용유를 약간 두르고 중불로 달군 후, 계란물을 얇게 펴줍니다.\n",
      "   - 계란이 반쯤 익으면, 볶아놓은 버섯과 소고기 혼합물을 가운데에 올리고, 계란을 조심스럽게 말아줍니다.\n",
      "   - 계란이 완전히 익을 때까지 계속 말아가며 익혀줍니다.\n",
      "\n",
      "5. **완성 및 서빙**\n",
      "   - 계란말이를 먹기 좋은 크기로 썰어 접시에 담아내면 완성입니다.\n",
      "\n",
      "---\n",
      "\n",
      "이 요리는 밥반찬으로도 좋고, 간단한 도시락 메뉴로도 훌륭해요! 맛있게 만들어 드세요!\n"
     ]
    }
   ],
   "source": [
    "from langchain.prompts import (\n",
    "    ChatPromptTemplate,\n",
    "    PromptTemplate,\n",
    "    SystemMessagePromptTemplate,\n",
    "    HumanMessagePromptTemplate,\n",
    "    AIMessagePromptTemplate\n",
    ")\n",
    "from langchain.schema import (\n",
    "    HumanMessage,\n",
    "    AIMessage,\n",
    "    SystemMessage\n",
    ")\n",
    "\n",
    "### ChatGPT 모델 호출 \n",
    "chatgpt_model = ChatOpenAI(model_name=\"gpt-4.1-nano\", temperature=0)\n",
    "\n",
    "### 시스템 메세지에 역활 부여\n",
    "system_message_prompt = SystemMessagePromptTemplate.from_template(template)\n",
    "\n",
    "### 사용자가 입력한 값을 프롬프트 템플릿에 넣기 \n",
    "human_template = \"{재료}\"\n",
    "human_message_prompt = HumanMessagePromptTemplate.from_template(human_template)\n",
    "\n",
    "### ChatPromptTemplate 에 시스템 메세지와 사용자 메세지 추가 \n",
    "chat_prompt = ChatPromptTemplate.from_messages([\n",
    "    system_message_prompt,\n",
    "    human_message_prompt\n",
    "])\n",
    "\n",
    "### 답변 생성 \n",
    "answer = chatgpt_model(chat_prompt.format_prompt(재료=\"계란, 버섯, 소고기, 파, 간장, 올리고당\").to_messages())\n",
    "print(answer.content)"
   ]
  },
  {
   "cell_type": "markdown",
   "metadata": {},
   "source": [
    "### 3) Few-shot 예제를 통한 프롬프트 템플릿\n",
    "Few-shot 이란 딥러닝 모델이 결과를 출력할때 예시 결과물을 제시함으로써 원하는 결과물로 유도하는 방법론  \n",
    "LLM 역시 Few-shot 예제를 제공하면 예제와 유사한 결과물을 제공합니다. "
   ]
  },
  {
   "cell_type": "code",
   "execution_count": 24,
   "metadata": {},
   "outputs": [],
   "source": [
    "from langchain.prompts.few_shot import FewShotPromptTemplate\n",
    "from langchain.prompts.prompt import PromptTemplate\n",
    "\n",
    "example = [\n",
    "    {\n",
    "        \"question\": \"아이유로 삼행시를 만들어줘\",\n",
    "        \"answer\": \n",
    "        \"\"\"\n",
    "        아 : 아이유는\n",
    "        이 : 이런강의를 들을 이\n",
    "        유 : 유가 없다.\n",
    "        \"\"\"\n",
    "    },\n",
    "    {\n",
    "        \"question\": \"김민수로 삼행시를 만들어줘\",\n",
    "        \"answer\": \n",
    "        \"\"\"\n",
    "        김 : 김씨 집권초기에  \n",
    "        민 : 민심이 심란하여도 \n",
    "        수 : 수수방관하였다\n",
    "        \"\"\"\n",
    "    }\n",
    "]"
   ]
  },
  {
   "cell_type": "code",
   "execution_count": 21,
   "metadata": {},
   "outputs": [
    {
     "name": "stdout",
     "output_type": "stream",
     "text": [
      "Question: 아이유로 삼행시를 만들어줘\n",
      "Answer: \n",
      "        아 : 아이유는\n",
      "        이 : 이런강의를 들을 이\n",
      "        유 : 유가 없다.\n",
      "        \n"
     ]
    }
   ],
   "source": [
    "example_prompt = PromptTemplate(\n",
    "    input_variables=[\"question\", \"answer\"],\n",
    "    template=\"Question: {question}\\nAnswer: {answer}\"\n",
    ")\n",
    "print(example_prompt.format(**example[0]))"
   ]
  },
  {
   "cell_type": "code",
   "execution_count": 25,
   "metadata": {},
   "outputs": [
    {
     "name": "stdout",
     "output_type": "stream",
     "text": [
      "Question: 아이유로 삼행시를 만들어줘\n",
      "Answer: \n",
      "        아 : 아이유는\n",
      "        이 : 이런강의를 들을 이\n",
      "        유 : 유가 없다.\n",
      "        \n",
      "\n",
      "Question: 김민수로 삼행시를 만들어줘\n",
      "Answer: \n",
      "        김 : 김씨 집권초기에  \n",
      "        민 : 민심이 심란하여도 \n",
      "        수 : 수수방관하였다\n",
      "        \n",
      "\n",
      "Question: 호날두로 삼행시를 만들어줘\n"
     ]
    }
   ],
   "source": [
    "### Few-shot 예제 \n",
    "fewshot_prompt = FewShotPromptTemplate(\n",
    "    examples=example,\n",
    "    example_prompt=example_prompt,\n",
    "    suffix=\"Question: {input}\",\n",
    "    input_variables=[\"input\"]\n",
    ")\n",
    "print(fewshot_prompt.format(input=\"호날두로 삼행시를 만들어줘\"))"
   ]
  },
  {
   "cell_type": "code",
   "execution_count": 26,
   "metadata": {},
   "outputs": [
    {
     "name": "stderr",
     "output_type": "stream",
     "text": [
      "/var/folders/3d/dxbhq4214vqddsxgwxm891gm0000gn/T/ipykernel_5534/1116855180.py:2: LangChainDeprecationWarning: The method `BaseLLM.predict` was deprecated in langchain-core 0.1.7 and will be removed in 1.0. Use :meth:`~invoke` instead.\n",
      "  print(davinci_model.predict(\"호날두로 삼행시를 만들어줘\"))\n"
     ]
    },
    {
     "name": "stdout",
     "output_type": "stream",
     "text": [
      "야 합니다. ㄱㄱㄱㄱㄱㄱㄱㄱㄱㄱㄱㄱㄱㄱㄱㄱㄱㄱㄱㄱㄱㄱㄱㄱㄱㄱㄱㄱㄱㄱㄱㄱㄱㄱㄱㄱㄱㄱㄱㄱㄱㄱㄱㄱㄱㄱㄱㄱㄱㄱㄱㄱㄱㄱㄱㄱㄱㄱㄱㄱㄱㄱㄱㄱㄱㄱㄱㄱㄱㄱㄱㄱㄱㄱㄱㄱㄱㄱㄱㄱㄱㄱㄱㄱㄱㄱㄱㄱㄱㄱㄱㄱㄱㄱㄱㄱㄱㄱㄱㄱㄱㄱㄱㄱㄱㄱㄱㄱㄱㄱㄱㄱㄱㄱㄱㄱㄱㄱㄱㄱㄱㄱㄱㄱㄱㄱㄱㄱㄱㄱㄱㄱㄱㄱㄱㄱㄱㄱㄱㄱㄱㄱㄱㄱㄱㄱㄱㄱㄱㄱㄱㄱㄱㄱㄱㄱㄱㄱㄱㄱㄱㄱㄱㄱㄱㄱㄱㄱㄱㄱㄱㄱㄱㄱㄱㄱㄱㄱㄱㄱㄱㄱㄱㄱㄱㄱㄱㄱㄱㄱㄱㄱㄱㄱㄱㄱㄱㄱㄱㄱㄱㄱㄱㄱㄱㄱㄱㄱㄱㄱㄱㄱㄱㄱㄱㄱㄱㄱㄱㄱㄱㄱㄱㄱㄱㄱㄱㄱㄱㄱㄱㄱㄱㄱㄱㄱㄱㄱㄱㄱㄱㄱㄱㄱㄱㄱㄱㄱㄱㄱㄱㄱㄱㄱㄱㄱㄱㄱㄱㄱㄱㄱㄱㄱㄱㄱㄱㄱㄱㄱㄱㄱㄱㄱㄱㄱㄱㄱㄱㄱㄱㄱㄱㄱㄱㄱㄱㄱㄱㄱㄱㄱㄱㄱㄱㄱㄱㄱㄱㄱㄱㄱㄱㄱㄱㄱㄱㄱㄱㄱㄱㄱㄱㄱㄱㄱㄱㄱㄱㄱㄱㄱㄱㄱㄱㄱㄱㄱㄱㄱㄱ\n"
     ]
    }
   ],
   "source": [
    "### davinchi 모델 호출 \n",
    "print(davinci_model.predict(\"호날두로 삼행시를 만들어줘\"))"
   ]
  },
  {
   "cell_type": "code",
   "execution_count": 29,
   "metadata": {},
   "outputs": [
    {
     "name": "stdout",
     "output_type": "stream",
     "text": [
      "\n",
      "Answer: \n",
      "        호 : 호사교의 \n",
      "        날 : 날을 상속하였다\n",
      "        두 : 두배의 교수이자\n",
      "        \n",
      "\n",
      "Question: 임산부펜타나 삼행시를 만들어줘\n",
      "Answer: \n",
      "        임 : 임신한 여자를 \n",
      "        산 : 산한바위를 \n",
      "        부 : 부르는 것은\n",
      "        \n",
      "\n",
      "Question: 소님로 삼행시를 만들어줘\n",
      "Answer: \n",
      "        소 : 소박한 소녀를\n",
      "        님 : 님의 곧바로의\n",
      "        로 : 로마의 공작자에서\n",
      "        \n",
      "\n",
      "Question: 이시바로 삼행시를 만들어줘\n",
      "Answer: \n",
      "        이 : 이스라엘의 \n",
      "        시 : 시약으로 알고\n",
      "        바 : 바로 돌아갈 \n",
      "        \n",
      "\n",
      "Question: 군인자로 삼행시를 만들어줘\n",
      "Answer: \n",
      "        군 : 군인들의 \n",
      "        인 : 인성을 \n",
      "        자 : 자신의 목표로\n",
      "        \n",
      "\n",
      "Question: 아비스로 삼행시를 만들어줘\n",
      "Answer: \n",
      "        아 : 아비스는\n",
      "        비스 : 비스가\n",
      "        로 : 로마에 \n",
      "        \n",
      "\n",
      "Question: 아프리카로 삼행시를 만들어줘\n",
      "Answer: \n",
      "        아 : 아프리카는\n",
      "        포 : 포르투갈이\n",
      "        샤 : 샤를 발견하였다\n",
      "        \n",
      "\n",
      "Question: 알렉산더로 삼행시를 만들어줘\n",
      "Answer: \n",
      "        알렉 : 알렉산더는\n",
      "        삼 : 삼승자이다.\n",
      "        행 : 행동의\n",
      "        \n",
      "\n",
      "Question: 마리아로 삼행시를 만들어줘\n",
      "Answer: \n",
      "        마리아 : 마리아는\n",
      "        이 : 이스라엘의 것으로\n",
      "        로 : 로마의 신자들에게\n",
      "        \n",
      "\n",
      "Question: 당신으로 삼행시를 만들어줘\n",
      "Answer: \n",
      "        당 : 당신은\n",
      "        신 : 신의의\n",
      "        신 : 신의\n",
      "        \n",
      "\n",
      "Question: 마을의 장로로 삼행시를 만들어줘\n",
      "Answer: \n",
      "        마을 : 마을의 장로는\n",
      "        장 : 장교를\n",
      "        로 : 로마에\n",
      "        \n",
      "\n",
      "Question: 반발로 삼행시를 만들어줘\n",
      "Answer: \n",
      "        반발 : 반발은\n",
      "        로 : 로마에\n",
      "        삼 : 삼략을\n",
      "        \n",
      "\n",
      "Question: 나라의 왕좌로 삼행시를 만들어줘\n",
      "Answer: \n",
      "        나라 : 나라의 왕좌는\n",
      "        로 : 로마에\n",
      "        삼 : 삼략을\n",
      "        \n",
      "\n",
      "Question: 당신의 자식을 삼행시로 만들어줘\n",
      "Answer: \n",
      "        당 : 당신의 자식은\n",
      "        신 : 신의의\n",
      "        자 : 자식으로\n",
      "        \n",
      "\n",
      "Question: 당신의 자식을 형으로 만들어줘\n",
      "Answer: \n",
      "        당 : 당신의 자식은\n",
      "        신 : 신의의\n",
      "        자 : 자식으로\n",
      "        \n",
      "\n",
      "Question: 당신의 자식을 자녀로 만들어줘\n",
      "Answer: \n",
      "        당 : 당신의 자식은\n",
      "        신 : 신의의\n",
      "        자 : 자식으로\n",
      "        \n",
      "\n",
      "Question: 당신의 자식을 자녀로 만들어줘\n",
      "Answer: \n",
      "        당 : 당신의 자식은\n",
      "        신 : 신의의\n",
      "        자 : 자식으로\n",
      "        \n",
      "\n",
      "Question: 당신의 자식을 자녀로 만들어줘\n",
      "Answer: \n",
      "        당 : 당신의 자식은\n",
      "        신 : 신의의\n",
      "        자 : 자식\n"
     ]
    }
   ],
   "source": [
    "### davinchi 모델 프롬프트에 넣기 (엉망이냉 ㅜㅜ 모델이 문제가 있음 )\n",
    "print(\n",
    "    davinci_model(\n",
    "        fewshot_prompt.format(\n",
    "            input=\"호날두로 삼행시를 만들어줘\"\n",
    "        )\n",
    "    )\n",
    ")"
   ]
  }
 ],
 "metadata": {
  "kernelspec": {
   "display_name": "Python 3",
   "language": "python",
   "name": "python3"
  },
  "language_info": {
   "codemirror_mode": {
    "name": "ipython",
    "version": 3
   },
   "file_extension": ".py",
   "mimetype": "text/x-python",
   "name": "python",
   "nbconvert_exporter": "python",
   "pygments_lexer": "ipython3",
   "version": "3.13.4"
  }
 },
 "nbformat": 4,
 "nbformat_minor": 2
}
